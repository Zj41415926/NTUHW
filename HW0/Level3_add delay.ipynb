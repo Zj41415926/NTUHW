{
 "cells": [
  {
   "cell_type": "code",
   "execution_count": 5,
   "metadata": {},
   "outputs": [],
   "source": [
    "import sys\n",
    "import time  #import time用以設定延遲秒數\n",
    "import pickle\n",
    "import requests\n",
    "from datetime import datetime\n",
    "from bs4 import BeautifulSoup"
   ]
  },
  {
   "cell_type": "code",
   "execution_count": 2,
   "metadata": {},
   "outputs": [],
   "source": [
    "def get_date(news_block_node): #找出日期\n",
    "    date_string = news_block_node.find(class_=\"news_date\").string.split('|')[0][2:-1] #找出新聞發布日\n",
    "    return(datetime.strptime(date_string, '%Y.%m.%d').strftime('%Y-%m-%d'))\n",
    "    \n",
    "def get_title(news_block_node): #找出新聞標題\n",
    "    return news_block_node.find(class_=\"news_title\").a.string\n",
    "\n",
    "def get_link(news_block_node):#找出新聞網址\n",
    "    return news_block_node.find(class_=\"news_title\").a.get('href')\n",
    "\n",
    "def get_content(link): #找出內文 用UTF-8編碼，以免亂碼\n",
    "    r = requests.get(link)\n",
    "    r.encoding = \"UTF-8\"\n",
    "    soup = BeautifulSoup(r.text, 'html.parser')\n",
    "    article_node = soup.find(itemprop='articleBody')\n",
    "    article = article_node.get_text()\n",
    "    return article.replace(\"\\n\", \"\")"
   ]
  },
  {
   "cell_type": "code",
   "execution_count": 58,
   "metadata": {},
   "outputs": [],
   "source": [
    "def get_news_info(each_news): #對每則新聞的Body做設定\n",
    "    date  = get_date(each_news)\n",
    "    title = get_title(each_news)\n",
    "    link  = get_link(each_news)\n",
    "    content = get_content(link)\n",
    "    \n",
    "    info = {'date' : date,\n",
    "            'title': title,\n",
    "            'link' : link,\n",
    "            'content': content}\n",
    "    return(info)\n",
    "\n",
    "def get_page_news(page_url): #抓取連結\n",
    "    r = requests.get(page_url)\n",
    "    r.encoding = \"UTF-8\"\n",
    "\n",
    "    soup = BeautifulSoup(r.text, 'html.parser')\n",
    "    news_blocks = soup.find_all(class_=\"news-list-item clearfix \")\n",
    "    \n",
    "    news = []\n",
    "    for each_news in news_blocks:   #迴圈 使用 Try Except 剔除掉Error資料\n",
    "        try:\n",
    "            news_info = get_news_info(each_news)\n",
    "#             print(get_title(each_news))\n",
    "            time.sleep(2)           #設定二秒延遲\n",
    "        except:\n",
    "#             print('-------{}-------'.format())\n",
    "            pass\n",
    "\n",
    "        news.append(news_info)\n",
    "    return(news)\n",
    "\n",
    "\n",
    "def get_new_talk_news(from_page=1, end_page=270, url=\"https://newtalk.tw/news/subcategory/2/政治/\"): \n",
    "    '''\n",
    "    設定頁數(政治新聞版)\n",
    "    '''\n",
    "    print(\"page_number from {} to {}\".format(from_page, end_page-1))\n",
    "    data = []\n",
    "    for page_number in range(from_page, end_page):\n",
    "        print(\"page_number: {}\".format(page_number))\n",
    "        data = data + get_page_news( url+str(page_number) )\n",
    "        \n",
    "    print('done')\n",
    "    return(data)"
   ]
  },
  {
   "cell_type": "code",
   "execution_count": null,
   "metadata": {},
   "outputs": [],
   "source": []
  }
 ],
 "metadata": {
  "kernelspec": {
   "display_name": "Python 3",
   "language": "python",
   "name": "python3"
  },
  "language_info": {
   "codemirror_mode": {
    "name": "ipython",
    "version": 3
   },
   "file_extension": ".py",
   "mimetype": "text/x-python",
   "name": "python",
   "nbconvert_exporter": "python",
   "pygments_lexer": "ipython3",
   "version": "3.6.5"
  }
 },
 "nbformat": 4,
 "nbformat_minor": 2
}

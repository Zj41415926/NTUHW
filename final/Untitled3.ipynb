{
 "cells": [
  {
   "cell_type": "code",
   "execution_count": 1,
   "metadata": {},
   "outputs": [],
   "source": [
    "import pickle\n",
    "import os, csv"
   ]
  },
  {
   "cell_type": "code",
   "execution_count": 2,
   "metadata": {},
   "outputs": [],
   "source": [
    "with open('dic.pkl', 'rb') as f:\n",
    "    dic = pickle.load(f)"
   ]
  },
  {
   "cell_type": "code",
   "execution_count": 3,
   "metadata": {},
   "outputs": [
    {
     "name": "stdout",
     "output_type": "stream",
     "text": [
      "0.009976168043008379\n"
     ]
    }
   ],
   "source": [
    "from openpyxl import load_workbook\n",
    "from datetime import datetime, timedelta\n",
    "wb = load_workbook('MXUS0IT.xlsx')\n",
    "sheet = wb.active \n",
    "msci = {}\n",
    "prev = None\n",
    "for idx, row in enumerate(list(sheet.rows)):\n",
    "    if idx <= 2:\n",
    "        continue\n",
    "    if prev is None:\n",
    "        prev = (row[0].value, row[1].value)\n",
    "        continue\n",
    "    dt = row[0].value\n",
    "    if timedelta(days = 0) <= dt - datetime(year = 2000, month = 1, day = 1) and timedelta(days = 0) >= dt - datetime(year = 2009, month = 12, day = 31):\n",
    "        msci[dt] = ((row[1].value - prev[1]) / prev[1])  / (row[0].value - prev[0]).days\n",
    "    prev = (row[0].value, row[1].value)\n",
    "print(msci[datetime(2000, 1, 3, 0, 0)])"
   ]
  },
  {
   "cell_type": "code",
   "execution_count": 5,
   "metadata": {},
   "outputs": [],
   "source": [
    "for company in dic:\n",
    "    if (dic[company]['date_list'][-1] - dic[company]['date_list'][0]).days < 0:\n",
    "        dic[company]['date_list'] = dic[company]['date_list'][::-1]\n",
    "        dic[company]['sentiment_list'] = dic[company]['sentiment_list'][::-1]"
   ]
  },
  {
   "cell_type": "code",
   "execution_count": 6,
   "metadata": {},
   "outputs": [
    {
     "data": {
      "text/plain": [
       "{'CIK': 912093,\n",
       " 'SIC': 3674,\n",
       " 'date_list': [datetime.datetime(2000, 2, 10, 0, 0),\n",
       "  datetime.datetime(2000, 5, 15, 0, 0),\n",
       "  datetime.datetime(2000, 11, 14, 0, 0),\n",
       "  datetime.datetime(2001, 2, 13, 0, 0),\n",
       "  datetime.datetime(2001, 5, 11, 0, 0),\n",
       "  datetime.datetime(2001, 11, 13, 0, 0),\n",
       "  datetime.datetime(2002, 2, 11, 0, 0),\n",
       "  datetime.datetime(2002, 5, 14, 0, 0),\n",
       "  datetime.datetime(2002, 11, 12, 0, 0),\n",
       "  datetime.datetime(2003, 2, 11, 0, 0),\n",
       "  datetime.datetime(2003, 5, 13, 0, 0),\n",
       "  datetime.datetime(2003, 11, 12, 0, 0),\n",
       "  datetime.datetime(2004, 2, 17, 0, 0),\n",
       "  datetime.datetime(2004, 5, 13, 0, 0),\n",
       "  datetime.datetime(2004, 11, 10, 0, 0),\n",
       "  datetime.datetime(2005, 2, 10, 0, 0),\n",
       "  datetime.datetime(2005, 5, 12, 0, 0),\n",
       "  datetime.datetime(2005, 11, 15, 0, 0),\n",
       "  datetime.datetime(2006, 2, 8, 0, 0),\n",
       "  datetime.datetime(2006, 5, 9, 0, 0),\n",
       "  datetime.datetime(2006, 11, 9, 0, 0),\n",
       "  datetime.datetime(2007, 2, 6, 0, 0),\n",
       "  datetime.datetime(2007, 5, 9, 0, 0),\n",
       "  datetime.datetime(2007, 11, 7, 0, 0),\n",
       "  datetime.datetime(2008, 2, 7, 0, 0),\n",
       "  datetime.datetime(2008, 5, 6, 0, 0),\n",
       "  datetime.datetime(2008, 11, 3, 0, 0),\n",
       "  datetime.datetime(2009, 2, 5, 0, 0),\n",
       "  datetime.datetime(2009, 5, 5, 0, 0),\n",
       "  datetime.datetime(2009, 11, 12, 0, 0)],\n",
       " 'sentiment_list': [[0.023020005480953686,\n",
       "   0.004608983781359775,\n",
       "   0.012506539774284361,\n",
       "   0.028401305463514288,\n",
       "   0.005730087944393234,\n",
       "   0.0019432472159246618,\n",
       "   0.003388225914945564,\n",
       "   0.008395824509828346],\n",
       "  [0.016787912702853944,\n",
       "   0.006777342535596593,\n",
       "   0.02294348069390039,\n",
       "   0.005969035627681403,\n",
       "   0.009077908350432134,\n",
       "   0.003046695268295716,\n",
       "   0.0037928247217558914,\n",
       "   0.004787663993036125],\n",
       "  [0.019124891335844683,\n",
       "   0.0067371776296725585,\n",
       "   0.023761228629382788,\n",
       "   0.006085192697768763,\n",
       "   0.010649087221095335,\n",
       "   0.003404810199942046,\n",
       "   0.0055056505360765,\n",
       "   0.005288322225441901],\n",
       "  [0.017624463357686224,\n",
       "   0.0067033215334789484,\n",
       "   0.024553739549597046,\n",
       "   0.005121638924455826,\n",
       "   0.01107177826316186,\n",
       "   0.0035399563154327033,\n",
       "   0.005874821119228741,\n",
       "   0.005648866460796867],\n",
       "  [0.016287713161346744,\n",
       "   0.00705072146917359,\n",
       "   0.020933537385220812,\n",
       "   0.004864451246174027,\n",
       "   0.00825317009182335,\n",
       "   0.0034433756012243115,\n",
       "   0.004973764757324005,\n",
       "   0.004973764757324005],\n",
       "  [0.025174418604651163,\n",
       "   0.006569767441860465,\n",
       "   0.02261627906976744,\n",
       "   0.005232558139534884,\n",
       "   0.009244186046511628,\n",
       "   0.003430232558139535,\n",
       "   0.005697674418604651,\n",
       "   0.005930232558139535],\n",
       "  [0.01718273004797209,\n",
       "   0.0046445704317488005,\n",
       "   0.014369821194941125,\n",
       "   0.022481465329262974,\n",
       "   0.007588312254688182,\n",
       "   0.0024640209332751854,\n",
       "   0.003837767117313563,\n",
       "   0.005298735281290885],\n",
       "  [0.027781631520532743,\n",
       "   0.0047169811320754715,\n",
       "   0.019630965593784685,\n",
       "   0.00912180910099889,\n",
       "   0.007352941176470588,\n",
       "   0.002844062153163152,\n",
       "   0.004335460599334073,\n",
       "   0.005618756936736959],\n",
       "  [0.026047267426577772,\n",
       "   0.0043252801873491535,\n",
       "   0.01603460224149879,\n",
       "   0.01648863717829235,\n",
       "   0.007623007623007623,\n",
       "   0.002126795230243506,\n",
       "   0.003465003465003465,\n",
       "   0.008220422013525462],\n",
       "  [0.026836860621465803,\n",
       "   0.004181171833268866,\n",
       "   0.013003996979241495,\n",
       "   0.010683170322889613,\n",
       "   0.005304746643090015,\n",
       "   0.002302407397174486,\n",
       "   0.004862684422832514,\n",
       "   0.00832550514818294],\n",
       "  [0.028402261496683436,\n",
       "   0.004919200462983573,\n",
       "   0.014490495481458398,\n",
       "   0.013911766015225037,\n",
       "   0.006588612384810577,\n",
       "   0.002626541423674487,\n",
       "   0.003405600320527089,\n",
       "   0.008458353737256822],\n",
       "  [0.028937740013909467,\n",
       "   0.005745214840797073,\n",
       "   0.01729612046808382,\n",
       "   0.013939705482144477,\n",
       "   0.009222581718121617,\n",
       "   0.0023283239091651297,\n",
       "   0.003386652958785643,\n",
       "   0.0078316349671918],\n",
       "  [0.029543385922330096,\n",
       "   0.006143810679611651,\n",
       "   0.01752123786407767,\n",
       "   0.010467233009708738,\n",
       "   0.008533070388349514,\n",
       "   0.0028822815533980583,\n",
       "   0.0037545509708737865,\n",
       "   0.008002123786407767],\n",
       "  [0.029738600862103056,\n",
       "   0.006366907897338553,\n",
       "   0.01834934946810614,\n",
       "   0.008976944675129514,\n",
       "   0.008818760627990667,\n",
       "   0.002451852730652114,\n",
       "   0.003717325107762882,\n",
       "   0.008423300510143552],\n",
       "  [0.02774918850447312,\n",
       "   0.006452379067373921,\n",
       "   0.017417464967144327,\n",
       "   0.013577705644842055,\n",
       "   0.008273295859393556,\n",
       "   0.0032855672551658616,\n",
       "   0.003681418731691869,\n",
       "   0.006650304805636925],\n",
       "  [0.026096879786179764,\n",
       "   0.007417640169374455,\n",
       "   0.014474909156431124,\n",
       "   0.016456950659178956,\n",
       "   0.006817021532178143,\n",
       "   0.00321330970900027,\n",
       "   0.004114237664794739,\n",
       "   0.007507732964953903],\n",
       "  [0.024112105633986587,\n",
       "   0.006028026408496647,\n",
       "   0.01594426032723572,\n",
       "   0.020719709819681114,\n",
       "   0.008611466297852352,\n",
       "   0.002792202708697581,\n",
       "   0.003235823699799066,\n",
       "   0.006706505571357741],\n",
       "  [0.031150824218148205,\n",
       "   0.007086735479895239,\n",
       "   0.01876444307502696,\n",
       "   0.010784162686797103,\n",
       "   0.007826220921275613,\n",
       "   0.0037898628870744106,\n",
       "   0.0038822985672469575,\n",
       "   0.007487290093976274],\n",
       "  [0.030868185265286632,\n",
       "   0.007134230261494819,\n",
       "   0.019015251523748,\n",
       "   0.011909108782967727,\n",
       "   0.007583630592927562,\n",
       "   0.0035390276100328625,\n",
       "   0.004325478190040165,\n",
       "   0.007948768362216667],\n",
       "  [0.029884759808364626,\n",
       "   0.006422374724847857,\n",
       "   0.01981095429237343,\n",
       "   0.012715266088307652,\n",
       "   0.008261038456558333,\n",
       "   0.003262980706979153,\n",
       "   0.0037809141525313996,\n",
       "   0.008545901851612067],\n",
       "  [0.028242908627325994,\n",
       "   0.0073058912942214815,\n",
       "   0.01774988354703474,\n",
       "   0.012086591973326143,\n",
       "   0.007502022604133468,\n",
       "   0.003481330750937753,\n",
       "   0.004461987300497683,\n",
       "   0.0084581627399544],\n",
       "  [0.029827550135987327,\n",
       "   0.007561493170746287,\n",
       "   0.018530141367046237,\n",
       "   0.012941211632146806,\n",
       "   0.007950028392958546,\n",
       "   0.0033772677007681043,\n",
       "   0.004542873367404884,\n",
       "   0.008009803042529663],\n",
       "  [0.02983686924182233,\n",
       "   0.007466260952863945,\n",
       "   0.01763728059053898,\n",
       "   0.01372101541148959,\n",
       "   0.0072408643957963545,\n",
       "   0.003155551798946271,\n",
       "   0.004367058293184571,\n",
       "   0.007748006649198434],\n",
       "  [0.03001508910729579,\n",
       "   0.00713673993719669,\n",
       "   0.014885200440438808,\n",
       "   0.01765833367317809,\n",
       "   0.003915011622690755,\n",
       "   0.0026507891195301984,\n",
       "   0.0030993842012968474,\n",
       "   0.0059540801761755234],\n",
       "  [0.026661273121759275,\n",
       "   0.007538704813738829,\n",
       "   0.015040635457654543,\n",
       "   0.015445151325708822,\n",
       "   0.004192255359835252,\n",
       "   0.002279998529033207,\n",
       "   0.0034199977935498106,\n",
       "   0.005552899643290553],\n",
       "  [0.02949247924410324,\n",
       "   0.007468649042970786,\n",
       "   0.015423628721297808,\n",
       "   0.017160523847570084,\n",
       "   0.004238024108104353,\n",
       "   0.002431653176781186,\n",
       "   0.0033348386424427692,\n",
       "   0.005558064404071282],\n",
       "  [0.019018598297782914,\n",
       "   0.00788063465377745,\n",
       "   0.014710518020384575,\n",
       "   0.009088998634023326,\n",
       "   0.003362404118945046,\n",
       "   0.002626878217925817,\n",
       "   0.005411369128927183,\n",
       "   0.006094357465587895],\n",
       "  [0.020200086161504954,\n",
       "   0.006701450385333397,\n",
       "   0.015413335886266814,\n",
       "   0.007850270451390551,\n",
       "   0.00306352017615241,\n",
       "   0.0022976401321143074,\n",
       "   0.0028241826623905033,\n",
       "   0.007275860418361974],\n",
       "  [0.019887904538058217,\n",
       "   0.0062827698427047555,\n",
       "   0.015187127101789911,\n",
       "   0.0063279696257457965,\n",
       "   0.0029831856807087326,\n",
       "   0.002485988067257277,\n",
       "   0.0029831856807087326,\n",
       "   0.007141565720484542],\n",
       "  [0.01843463604761403,\n",
       "   0.006636468977141052,\n",
       "   0.013272937954282103,\n",
       "   0.007321184030338144,\n",
       "   0.002949541767618245,\n",
       "   0.002001474770883809,\n",
       "   0.003423575265985463,\n",
       "   0.006794480143263457]]}"
      ]
     },
     "execution_count": 6,
     "metadata": {},
     "output_type": "execute_result"
    }
   ],
   "source": [
    "dic[company]"
   ]
  },
  {
   "cell_type": "code",
   "execution_count": 22,
   "metadata": {},
   "outputs": [
    {
     "ename": "KeyboardInterrupt",
     "evalue": "",
     "output_type": "error",
     "traceback": [
      "\u001b[1;31m---------------------------------------------------------------------------\u001b[0m",
      "\u001b[1;31mKeyboardInterrupt\u001b[0m                         Traceback (most recent call last)",
      "\u001b[1;32m<ipython-input-22-5991d08f7c92>\u001b[0m in \u001b[0;36m<module>\u001b[1;34m\u001b[0m\n\u001b[0;32m     10\u001b[0m         \u001b[1;32mcontinue\u001b[0m\u001b[1;33m\u001b[0m\u001b[1;33m\u001b[0m\u001b[0m\n\u001b[0;32m     11\u001b[0m     \u001b[0mLA_rate_dic\u001b[0m\u001b[1;33m[\u001b[0m\u001b[0mcompany\u001b[0m\u001b[1;33m]\u001b[0m \u001b[1;33m=\u001b[0m \u001b[1;33m{\u001b[0m\u001b[1;33m}\u001b[0m\u001b[1;33m\u001b[0m\u001b[1;33m\u001b[0m\u001b[0m\n\u001b[1;32m---> 12\u001b[1;33m     \u001b[0mwb\u001b[0m \u001b[1;33m=\u001b[0m \u001b[0mxlrd\u001b[0m\u001b[1;33m.\u001b[0m\u001b[0mopen_workbook\u001b[0m\u001b[1;33m(\u001b[0m\u001b[1;34m'LiabRatio.xlsx'\u001b[0m\u001b[1;33m)\u001b[0m\u001b[1;33m\u001b[0m\u001b[1;33m\u001b[0m\u001b[0m\n\u001b[0m\u001b[0;32m     13\u001b[0m     \u001b[0msheet\u001b[0m \u001b[1;33m=\u001b[0m \u001b[0mwb\u001b[0m\u001b[1;33m.\u001b[0m\u001b[0msheets\u001b[0m\u001b[1;33m(\u001b[0m\u001b[1;33m)\u001b[0m\u001b[1;33m[\u001b[0m\u001b[1;36m0\u001b[0m\u001b[1;33m]\u001b[0m\u001b[1;33m\u001b[0m\u001b[1;33m\u001b[0m\u001b[0m\n\u001b[0;32m     14\u001b[0m     \u001b[0mprev\u001b[0m \u001b[1;33m=\u001b[0m \u001b[1;32mNone\u001b[0m\u001b[1;33m\u001b[0m\u001b[1;33m\u001b[0m\u001b[0m\n",
      "\u001b[1;32mC:\\ProgramData\\Anaconda3\\lib\\site-packages\\xlrd\\__init__.py\u001b[0m in \u001b[0;36mopen_workbook\u001b[1;34m(filename, logfile, verbosity, use_mmap, file_contents, encoding_override, formatting_info, on_demand, ragged_rows)\u001b[0m\n\u001b[0;32m    136\u001b[0m                 \u001b[0mformatting_info\u001b[0m\u001b[1;33m=\u001b[0m\u001b[0mformatting_info\u001b[0m\u001b[1;33m,\u001b[0m\u001b[1;33m\u001b[0m\u001b[1;33m\u001b[0m\u001b[0m\n\u001b[0;32m    137\u001b[0m                 \u001b[0mon_demand\u001b[0m\u001b[1;33m=\u001b[0m\u001b[0mon_demand\u001b[0m\u001b[1;33m,\u001b[0m\u001b[1;33m\u001b[0m\u001b[1;33m\u001b[0m\u001b[0m\n\u001b[1;32m--> 138\u001b[1;33m                 \u001b[0mragged_rows\u001b[0m\u001b[1;33m=\u001b[0m\u001b[0mragged_rows\u001b[0m\u001b[1;33m,\u001b[0m\u001b[1;33m\u001b[0m\u001b[1;33m\u001b[0m\u001b[0m\n\u001b[0m\u001b[0;32m    139\u001b[0m             )\n\u001b[0;32m    140\u001b[0m             \u001b[1;32mreturn\u001b[0m \u001b[0mbk\u001b[0m\u001b[1;33m\u001b[0m\u001b[1;33m\u001b[0m\u001b[0m\n",
      "\u001b[1;32mC:\\ProgramData\\Anaconda3\\lib\\site-packages\\xlrd\\xlsx.py\u001b[0m in \u001b[0;36mopen_workbook_2007_xml\u001b[1;34m(zf, component_names, logfile, verbosity, use_mmap, formatting_info, on_demand, ragged_rows)\u001b[0m\n\u001b[0;32m    839\u001b[0m         \u001b[0mx12sheet\u001b[0m \u001b[1;33m=\u001b[0m \u001b[0mX12Sheet\u001b[0m\u001b[1;33m(\u001b[0m\u001b[0msheet\u001b[0m\u001b[1;33m,\u001b[0m \u001b[0mlogfile\u001b[0m\u001b[1;33m,\u001b[0m \u001b[0mverbosity\u001b[0m\u001b[1;33m)\u001b[0m\u001b[1;33m\u001b[0m\u001b[1;33m\u001b[0m\u001b[0m\n\u001b[0;32m    840\u001b[0m         \u001b[0mheading\u001b[0m \u001b[1;33m=\u001b[0m \u001b[1;34m\"Sheet %r (sheetx=%d) from %r\"\u001b[0m \u001b[1;33m%\u001b[0m \u001b[1;33m(\u001b[0m\u001b[0msheet\u001b[0m\u001b[1;33m.\u001b[0m\u001b[0mname\u001b[0m\u001b[1;33m,\u001b[0m \u001b[0msheetx\u001b[0m\u001b[1;33m,\u001b[0m \u001b[0mfname\u001b[0m\u001b[1;33m)\u001b[0m\u001b[1;33m\u001b[0m\u001b[1;33m\u001b[0m\u001b[0m\n\u001b[1;32m--> 841\u001b[1;33m         \u001b[0mx12sheet\u001b[0m\u001b[1;33m.\u001b[0m\u001b[0mprocess_stream\u001b[0m\u001b[1;33m(\u001b[0m\u001b[0mzflo\u001b[0m\u001b[1;33m,\u001b[0m \u001b[0mheading\u001b[0m\u001b[1;33m)\u001b[0m\u001b[1;33m\u001b[0m\u001b[1;33m\u001b[0m\u001b[0m\n\u001b[0m\u001b[0;32m    842\u001b[0m         \u001b[1;32mdel\u001b[0m \u001b[0mzflo\u001b[0m\u001b[1;33m\u001b[0m\u001b[1;33m\u001b[0m\u001b[0m\n\u001b[0;32m    843\u001b[0m \u001b[1;33m\u001b[0m\u001b[0m\n",
      "\u001b[1;32mC:\\ProgramData\\Anaconda3\\lib\\site-packages\\xlrd\\xlsx.py\u001b[0m in \u001b[0;36mown_process_stream\u001b[1;34m(self, stream, heading)\u001b[0m\n\u001b[0;32m    546\u001b[0m         \u001b[0mrow_tag\u001b[0m \u001b[1;33m=\u001b[0m \u001b[0mU_SSML12\u001b[0m \u001b[1;33m+\u001b[0m \u001b[1;34m\"row\"\u001b[0m\u001b[1;33m\u001b[0m\u001b[1;33m\u001b[0m\u001b[0m\n\u001b[0;32m    547\u001b[0m         \u001b[0mself_do_row\u001b[0m \u001b[1;33m=\u001b[0m \u001b[0mself\u001b[0m\u001b[1;33m.\u001b[0m\u001b[0mdo_row\u001b[0m\u001b[1;33m\u001b[0m\u001b[1;33m\u001b[0m\u001b[0m\n\u001b[1;32m--> 548\u001b[1;33m         \u001b[1;32mfor\u001b[0m \u001b[0mevent\u001b[0m\u001b[1;33m,\u001b[0m \u001b[0melem\u001b[0m \u001b[1;32min\u001b[0m \u001b[0mET\u001b[0m\u001b[1;33m.\u001b[0m\u001b[0miterparse\u001b[0m\u001b[1;33m(\u001b[0m\u001b[0mstream\u001b[0m\u001b[1;33m)\u001b[0m\u001b[1;33m:\u001b[0m\u001b[1;33m\u001b[0m\u001b[1;33m\u001b[0m\u001b[0m\n\u001b[0m\u001b[0;32m    549\u001b[0m             \u001b[1;32mif\u001b[0m \u001b[0melem\u001b[0m\u001b[1;33m.\u001b[0m\u001b[0mtag\u001b[0m \u001b[1;33m==\u001b[0m \u001b[0mrow_tag\u001b[0m\u001b[1;33m:\u001b[0m\u001b[1;33m\u001b[0m\u001b[1;33m\u001b[0m\u001b[0m\n\u001b[0;32m    550\u001b[0m                 \u001b[0mself_do_row\u001b[0m\u001b[1;33m(\u001b[0m\u001b[0melem\u001b[0m\u001b[1;33m)\u001b[0m\u001b[1;33m\u001b[0m\u001b[1;33m\u001b[0m\u001b[0m\n",
      "\u001b[1;32mC:\\ProgramData\\Anaconda3\\lib\\xml\\etree\\ElementTree.py\u001b[0m in \u001b[0;36miterator\u001b[1;34m()\u001b[0m\n\u001b[0;32m   1225\u001b[0m                 \u001b[1;32mif\u001b[0m \u001b[1;32mnot\u001b[0m \u001b[0mdata\u001b[0m\u001b[1;33m:\u001b[0m\u001b[1;33m\u001b[0m\u001b[1;33m\u001b[0m\u001b[0m\n\u001b[0;32m   1226\u001b[0m                     \u001b[1;32mbreak\u001b[0m\u001b[1;33m\u001b[0m\u001b[1;33m\u001b[0m\u001b[0m\n\u001b[1;32m-> 1227\u001b[1;33m                 \u001b[0mpullparser\u001b[0m\u001b[1;33m.\u001b[0m\u001b[0mfeed\u001b[0m\u001b[1;33m(\u001b[0m\u001b[0mdata\u001b[0m\u001b[1;33m)\u001b[0m\u001b[1;33m\u001b[0m\u001b[1;33m\u001b[0m\u001b[0m\n\u001b[0m\u001b[0;32m   1228\u001b[0m             \u001b[0mroot\u001b[0m \u001b[1;33m=\u001b[0m \u001b[0mpullparser\u001b[0m\u001b[1;33m.\u001b[0m\u001b[0m_close_and_return_root\u001b[0m\u001b[1;33m(\u001b[0m\u001b[1;33m)\u001b[0m\u001b[1;33m\u001b[0m\u001b[1;33m\u001b[0m\u001b[0m\n\u001b[0;32m   1229\u001b[0m             \u001b[1;32myield\u001b[0m \u001b[1;32mfrom\u001b[0m \u001b[0mpullparser\u001b[0m\u001b[1;33m.\u001b[0m\u001b[0mread_events\u001b[0m\u001b[1;33m(\u001b[0m\u001b[1;33m)\u001b[0m\u001b[1;33m\u001b[0m\u001b[1;33m\u001b[0m\u001b[0m\n",
      "\u001b[1;32mC:\\ProgramData\\Anaconda3\\lib\\xml\\etree\\ElementTree.py\u001b[0m in \u001b[0;36mfeed\u001b[1;34m(self, data)\u001b[0m\n\u001b[0;32m   1267\u001b[0m         \u001b[1;32mif\u001b[0m \u001b[0mdata\u001b[0m\u001b[1;33m:\u001b[0m\u001b[1;33m\u001b[0m\u001b[1;33m\u001b[0m\u001b[0m\n\u001b[0;32m   1268\u001b[0m             \u001b[1;32mtry\u001b[0m\u001b[1;33m:\u001b[0m\u001b[1;33m\u001b[0m\u001b[1;33m\u001b[0m\u001b[0m\n\u001b[1;32m-> 1269\u001b[1;33m                 \u001b[0mself\u001b[0m\u001b[1;33m.\u001b[0m\u001b[0m_parser\u001b[0m\u001b[1;33m.\u001b[0m\u001b[0mfeed\u001b[0m\u001b[1;33m(\u001b[0m\u001b[0mdata\u001b[0m\u001b[1;33m)\u001b[0m\u001b[1;33m\u001b[0m\u001b[1;33m\u001b[0m\u001b[0m\n\u001b[0m\u001b[0;32m   1270\u001b[0m             \u001b[1;32mexcept\u001b[0m \u001b[0mSyntaxError\u001b[0m \u001b[1;32mas\u001b[0m \u001b[0mexc\u001b[0m\u001b[1;33m:\u001b[0m\u001b[1;33m\u001b[0m\u001b[1;33m\u001b[0m\u001b[0m\n\u001b[0;32m   1271\u001b[0m                 \u001b[0mself\u001b[0m\u001b[1;33m.\u001b[0m\u001b[0m_events_queue\u001b[0m\u001b[1;33m.\u001b[0m\u001b[0mappend\u001b[0m\u001b[1;33m(\u001b[0m\u001b[0mexc\u001b[0m\u001b[1;33m)\u001b[0m\u001b[1;33m\u001b[0m\u001b[1;33m\u001b[0m\u001b[0m\n",
      "\u001b[1;32mC:\\ProgramData\\Anaconda3\\lib\\xml\\etree\\ElementTree.py\u001b[0m in \u001b[0;36mfeed\u001b[1;34m(self, data)\u001b[0m\n\u001b[0;32m   1628\u001b[0m         \u001b[1;34m\"\"\"Feed encoded data to parser.\"\"\"\u001b[0m\u001b[1;33m\u001b[0m\u001b[1;33m\u001b[0m\u001b[0m\n\u001b[0;32m   1629\u001b[0m         \u001b[1;32mtry\u001b[0m\u001b[1;33m:\u001b[0m\u001b[1;33m\u001b[0m\u001b[1;33m\u001b[0m\u001b[0m\n\u001b[1;32m-> 1630\u001b[1;33m             \u001b[0mself\u001b[0m\u001b[1;33m.\u001b[0m\u001b[0mparser\u001b[0m\u001b[1;33m.\u001b[0m\u001b[0mParse\u001b[0m\u001b[1;33m(\u001b[0m\u001b[0mdata\u001b[0m\u001b[1;33m,\u001b[0m \u001b[1;36m0\u001b[0m\u001b[1;33m)\u001b[0m\u001b[1;33m\u001b[0m\u001b[1;33m\u001b[0m\u001b[0m\n\u001b[0m\u001b[0;32m   1631\u001b[0m         \u001b[1;32mexcept\u001b[0m \u001b[0mself\u001b[0m\u001b[1;33m.\u001b[0m\u001b[0m_error\u001b[0m \u001b[1;32mas\u001b[0m \u001b[0mv\u001b[0m\u001b[1;33m:\u001b[0m\u001b[1;33m\u001b[0m\u001b[1;33m\u001b[0m\u001b[0m\n\u001b[0;32m   1632\u001b[0m             \u001b[0mself\u001b[0m\u001b[1;33m.\u001b[0m\u001b[0m_raiseerror\u001b[0m\u001b[1;33m(\u001b[0m\u001b[0mv\u001b[0m\u001b[1;33m)\u001b[0m\u001b[1;33m\u001b[0m\u001b[1;33m\u001b[0m\u001b[0m\n",
      "\u001b[1;32mc:\\ci\\python_1553722149829\\work\\modules\\pyexpat.c\u001b[0m in \u001b[0;36mStartElement\u001b[1;34m()\u001b[0m\n",
      "\u001b[1;32mC:\\ProgramData\\Anaconda3\\lib\\xml\\etree\\ElementTree.py\u001b[0m in \u001b[0;36m_start\u001b[1;34m(self, tag, attr_list)\u001b[0m\n\u001b[0;32m   1546\u001b[0m         \u001b[1;31m# is set, the attributes are reported as a list of alternating\u001b[0m\u001b[1;33m\u001b[0m\u001b[1;33m\u001b[0m\u001b[1;33m\u001b[0m\u001b[0m\n\u001b[0;32m   1547\u001b[0m         \u001b[1;31m# attribute name,value.\u001b[0m\u001b[1;33m\u001b[0m\u001b[1;33m\u001b[0m\u001b[1;33m\u001b[0m\u001b[0m\n\u001b[1;32m-> 1548\u001b[1;33m         \u001b[0mfixname\u001b[0m \u001b[1;33m=\u001b[0m \u001b[0mself\u001b[0m\u001b[1;33m.\u001b[0m\u001b[0m_fixname\u001b[0m\u001b[1;33m\u001b[0m\u001b[1;33m\u001b[0m\u001b[0m\n\u001b[0m\u001b[0;32m   1549\u001b[0m         \u001b[0mtag\u001b[0m \u001b[1;33m=\u001b[0m \u001b[0mfixname\u001b[0m\u001b[1;33m(\u001b[0m\u001b[0mtag\u001b[0m\u001b[1;33m)\u001b[0m\u001b[1;33m\u001b[0m\u001b[1;33m\u001b[0m\u001b[0m\n\u001b[0;32m   1550\u001b[0m         \u001b[0mattrib\u001b[0m \u001b[1;33m=\u001b[0m \u001b[1;33m{\u001b[0m\u001b[1;33m}\u001b[0m\u001b[1;33m\u001b[0m\u001b[1;33m\u001b[0m\u001b[0m\n",
      "\u001b[1;31mKeyboardInterrupt\u001b[0m: "
     ]
    }
   ],
   "source": [
    "import xlrd\n",
    "from datetime import datetime, timedelta, date\n",
    "LA_rate_dic = {}\n",
    "delete_list = ['ELON', 'CRTN', 'TKLC', 'ESIO', 'MSCC', 'IXYS', 'LIOX', 'PSEM', 'DWCH','ONVI', 'ADCT', 'CHYR', 'CVG', 'MATR',\n",
    " 'NEWP', 'EMC', 'UTEK', 'XRIT', 'DST', 'CKP', 'HTCH', 'LLTC', 'RSTI', 'FRP', 'RSYS', 'TIII', 'NMRX', 'MTSN', 'ACTA', 'MWW', 'ANAD',\n",
    " 'ELMG', 'EPIQ', 'HILL', 'ADVS', 'LXK', 'QLGC', 'PLNR', 'CACI', 'XCRA', 'PGI', 'MEAS', 'BTUI', 'ENVE', 'COVR', 'MCRL', 'SNDK',\n",
    " 'EDGW', 'ISIL', 'DTLK']\n",
    "for company in dic:\n",
    "    if company in delete_list:\n",
    "        continue\n",
    "    LA_rate_dic[company] = {}\n",
    "    wb = xlrd.open_workbook('LiabRatio.xlsx')\n",
    "    sheet = wb.sheets()[0]\n",
    "    prev = None\n",
    "    for idx in range(sheet.nrows):\n",
    "        if idx <= 10:\n",
    "            continue\n",
    "        row = sheet.row(idx)\n",
    "        "
   ]
  },
  {
   "cell_type": "code",
   "execution_count": 8,
   "metadata": {},
   "outputs": [],
   "source": [
    "import xlrd\n",
    "from datetime import datetime, timedelta, date\n",
    "wb = xlrd.open_workbook('LiabRatio.xlsx')\n",
    "sheet = wb.sheets()[0]\n"
   ]
  },
  {
   "cell_type": "code",
   "execution_count": 24,
   "metadata": {},
   "outputs": [],
   "source": [
    "row=sheet.row(2)"
   ]
  },
  {
   "cell_type": "code",
   "execution_count": 25,
   "metadata": {},
   "outputs": [
    {
     "data": {
      "text/plain": [
       "[text:'5/31/1993',\n",
       " number:1992.0,\n",
       " number:4.0,\n",
       " text:'AIR',\n",
       " text:'1993Q2',\n",
       " text:'1992Q4',\n",
       " number:365.151,\n",
       " number:175.935,\n",
       " number:0.4818143726841772,\n",
       " number:0.4818143726841772]"
      ]
     },
     "execution_count": 25,
     "metadata": {},
     "output_type": "execute_result"
    }
   ],
   "source": [
    "row"
   ]
  },
  {
   "cell_type": "code",
   "execution_count": 15,
   "metadata": {},
   "outputs": [
    {
     "data": {
      "text/plain": [
       "0.49473723609317644"
      ]
     },
     "execution_count": 15,
     "metadata": {},
     "output_type": "execute_result"
    }
   ],
   "source": [
    "row[9].value"
   ]
  },
  {
   "cell_type": "code",
   "execution_count": 16,
   "metadata": {},
   "outputs": [
    {
     "data": {
      "text/plain": [
       "1992.0"
      ]
     },
     "execution_count": 16,
     "metadata": {},
     "output_type": "execute_result"
    }
   ],
   "source": [
    "row[1].value"
   ]
  },
  {
   "cell_type": "code",
   "execution_count": 18,
   "metadata": {},
   "outputs": [
    {
     "data": {
      "text/plain": [
       "'AIR'"
      ]
     },
     "execution_count": 18,
     "metadata": {},
     "output_type": "execute_result"
    }
   ],
   "source": [
    "row[3].value"
   ]
  },
  {
   "cell_type": "code",
   "execution_count": 23,
   "metadata": {},
   "outputs": [
    {
     "ename": "TypeError",
     "evalue": "'<' not supported between instances of 'str' and 'int'",
     "output_type": "error",
     "traceback": [
      "\u001b[1;31m---------------------------------------------------------------------------\u001b[0m",
      "\u001b[1;31mTypeError\u001b[0m                                 Traceback (most recent call last)",
      "\u001b[1;32m<ipython-input-23-72e3afa89247>\u001b[0m in \u001b[0;36m<module>\u001b[1;34m\u001b[0m\n\u001b[0;32m      4\u001b[0m \u001b[0msheet\u001b[0m \u001b[1;33m=\u001b[0m \u001b[0mwb\u001b[0m\u001b[1;33m.\u001b[0m\u001b[0msheets\u001b[0m\u001b[1;33m(\u001b[0m\u001b[1;33m)\u001b[0m\u001b[1;33m[\u001b[0m\u001b[1;36m0\u001b[0m\u001b[1;33m]\u001b[0m\u001b[1;33m\u001b[0m\u001b[1;33m\u001b[0m\u001b[0m\n\u001b[0;32m      5\u001b[0m \u001b[0mrow\u001b[0m\u001b[1;33m=\u001b[0m\u001b[0msheet\u001b[0m\u001b[1;33m.\u001b[0m\u001b[0mrow\u001b[0m\u001b[1;33m(\u001b[0m\u001b[1;36m1\u001b[0m\u001b[1;33m)\u001b[0m\u001b[1;33m\u001b[0m\u001b[1;33m\u001b[0m\u001b[0m\n\u001b[1;32m----> 6\u001b[1;33m \u001b[0mdt\u001b[0m \u001b[1;33m=\u001b[0m \u001b[0mxlrd\u001b[0m\u001b[1;33m.\u001b[0m\u001b[0mxldate_as_datetime\u001b[0m\u001b[1;33m(\u001b[0m\u001b[0mrow\u001b[0m\u001b[1;33m[\u001b[0m\u001b[1;36m0\u001b[0m\u001b[1;33m]\u001b[0m\u001b[1;33m.\u001b[0m\u001b[0mvalue\u001b[0m\u001b[1;33m,\u001b[0m\u001b[1;36m0\u001b[0m\u001b[1;33m)\u001b[0m\u001b[1;33m\u001b[0m\u001b[1;33m\u001b[0m\u001b[0m\n\u001b[0m",
      "\u001b[1;32mC:\\ProgramData\\Anaconda3\\lib\\site-packages\\xlrd\\xldate.py\u001b[0m in \u001b[0;36mxldate_as_datetime\u001b[1;34m(xldate, datemode)\u001b[0m\n\u001b[0;32m    142\u001b[0m         \u001b[0mepoch\u001b[0m \u001b[1;33m=\u001b[0m \u001b[0mepoch_1904\u001b[0m\u001b[1;33m\u001b[0m\u001b[1;33m\u001b[0m\u001b[0m\n\u001b[0;32m    143\u001b[0m     \u001b[1;32melse\u001b[0m\u001b[1;33m:\u001b[0m\u001b[1;33m\u001b[0m\u001b[1;33m\u001b[0m\u001b[0m\n\u001b[1;32m--> 144\u001b[1;33m         \u001b[1;32mif\u001b[0m \u001b[0mxldate\u001b[0m \u001b[1;33m<\u001b[0m \u001b[1;36m60\u001b[0m\u001b[1;33m:\u001b[0m\u001b[1;33m\u001b[0m\u001b[1;33m\u001b[0m\u001b[0m\n\u001b[0m\u001b[0;32m    145\u001b[0m             \u001b[0mepoch\u001b[0m \u001b[1;33m=\u001b[0m \u001b[0mepoch_1900\u001b[0m\u001b[1;33m\u001b[0m\u001b[1;33m\u001b[0m\u001b[0m\n\u001b[0;32m    146\u001b[0m         \u001b[1;32melse\u001b[0m\u001b[1;33m:\u001b[0m\u001b[1;33m\u001b[0m\u001b[1;33m\u001b[0m\u001b[0m\n",
      "\u001b[1;31mTypeError\u001b[0m: '<' not supported between instances of 'str' and 'int'"
     ]
    }
   ],
   "source": [
    "import xlrd\n",
    "from datetime import datetime, timedelta, date\n",
    "wb = xlrd.open_workbook('223456.xlsx')\n",
    "sheet = wb.sheets()[0]\n",
    "row=sheet.row(1)\n",
    "dt = xlrd.xldate_as_datetime(row[0].value,0)"
   ]
  },
  {
   "cell_type": "code",
   "execution_count": null,
   "metadata": {},
   "outputs": [],
   "source": []
  }
 ],
 "metadata": {
  "kernelspec": {
   "display_name": "Python 3",
   "language": "python",
   "name": "python3"
  },
  "language_info": {
   "codemirror_mode": {
    "name": "ipython",
    "version": 3
   },
   "file_extension": ".py",
   "mimetype": "text/x-python",
   "name": "python",
   "nbconvert_exporter": "python",
   "pygments_lexer": "ipython3",
   "version": "3.7.3"
  }
 },
 "nbformat": 4,
 "nbformat_minor": 2
}

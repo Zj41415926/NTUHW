{
 "cells": [
  {
   "cell_type": "code",
   "execution_count": 3,
   "metadata": {},
   "outputs": [
    {
     "name": "stdout",
     "output_type": "stream",
     "text": [
      "INVE\n",
      "ELON\n",
      "PEGA\n",
      "PRCP\n",
      "CASS\n",
      "COHU\n",
      "BBOX\n",
      "BDR\n",
      "CRTN\n",
      "HMNY\n",
      "BELFB\n",
      "CDNS\n",
      "KLAC\n",
      "CY\n",
      "XLNX\n",
      "ZOOM\n",
      "TACT\n",
      "WGNR\n",
      "NVDA\n",
      "CMTL\n",
      "AXE\n",
      "TTWO\n",
      "KEM\n",
      "EVOL\n",
      "TKLC\n",
      "ESIO\n",
      "IT\n",
      "MSCC\n",
      "INTC\n",
      "ANEN\n",
      "AMSWA\n",
      "SYMC\n",
      "AMKR\n",
      "IXYS\n",
      "LIOX\n",
      "PSEM\n",
      "SPDC\n",
      "CSCO\n",
      "DWCH\n",
      "TLAB\n",
      "SHEN\n",
      "ONVI\n",
      "XRX\n",
      "BHE\n",
      "INTT\n",
      "INAP\n",
      "ADCT\n",
      "FTR\n",
      "CRAY\n",
      "SMIT\n",
      "CHYR\n",
      "CTS\n",
      "GVP\n",
      "OLED\n",
      "CVG\n",
      "CYBE\n",
      "MATR\n",
      "MTSC\n",
      "MCHP\n",
      "ESCC\n",
      "CTL\n",
      "APH\n",
      "LFUS\n",
      "RMTR\n",
      "NEWP\n",
      "VSAT\n",
      "LSCC\n",
      "EMC\n",
      "ON\n",
      "TDS\n",
      "PAR\n",
      "AAPL\n",
      "PAYX\n",
      "AXTI\n",
      "UTEK\n",
      "EGOV\n",
      "MMS\n",
      "CELL\n",
      "XRIT\n",
      "DST\n",
      "INTU\n",
      "MSI\n",
      "TRT\n",
      "FDC\n",
      "CKP\n",
      "MSFT\n",
      "QUIK\n",
      "INOD\n",
      "DGII\n",
      "HTCH\n",
      "NIHD\n",
      "LLTC\n",
      "CSGS\n",
      "DAIO\n",
      "RSTI\n",
      "DDD\n",
      "ASYS\n",
      "WTT\n",
      "EA\n",
      "FRP\n",
      "ITI\n",
      "RSYS\n",
      "TIII\n",
      "NMRX\n",
      "STCN\n",
      "DIOD\n",
      "MTSN\n",
      "NSYS\n",
      "PLT\n",
      "CYMI\n",
      "ACTA\n",
      "MU\n",
      "ZIXI\n",
      "KVHI\n",
      "NWK\n",
      "DRCO\n",
      "FICO\n",
      "MSTR\n",
      "IBM\n",
      "BRKS\n",
      "CSPI\n",
      "MWW\n",
      "FSII\n",
      "TYL\n",
      "TXN\n",
      "ADBE\n",
      "HLIT\n",
      "ANAD\n",
      "ELMG\n",
      "FALC\n",
      "ALOT\n",
      "CBB\n",
      "EPIQ\n",
      "PKE\n",
      "SUPX\n",
      "ADI\n",
      "HILL\n",
      "FARO\n",
      "KODK\n",
      "FFIV\n",
      "ADVS\n",
      "EEFT\n",
      "FLEX\n",
      "LXK\n",
      "QLGC\n",
      "PLNR\n",
      "VECO\n",
      "MKSI\n",
      "AWRE\n",
      "CACI\n",
      "FLIR\n",
      "XCRA\n",
      "IAC\n",
      "TSS\n",
      "CIEN\n",
      "PGI\n",
      "TESS\n",
      "MEAS\n",
      "MXWL\n",
      "PRST\n",
      "EBIX\n",
      "BTUI\n",
      "IEC\n",
      "OSPN\n",
      "VSH\n",
      "ASUR\n",
      "ZBRA\n",
      "PCTI\n",
      "TER\n",
      "ANSS\n",
      "AEIS\n",
      "ENVE\n",
      "TCX\n",
      "EGHT\n",
      "COVR\n",
      "AMD\n",
      "ACCL\n",
      "MCRL\n",
      "WDC\n",
      "OSIS\n",
      "CREE\n",
      "SNDK\n",
      "PFSW\n",
      "EDGW\n",
      "ATEA\n",
      "KLIC\n",
      "NCR\n",
      "CNXN\n",
      "IDT\n",
      "AVX\n",
      "ISIL\n",
      "LGL\n",
      "FEIM\n",
      "ATNI\n",
      "QADA\n",
      "TRMB\n",
      "DTLK\n",
      "PCMI\n",
      "CTSH\n",
      "VIAV\n",
      "\n"
     ]
    }
   ],
   "source": [
    "a=open('chosen_list.txt','r')\n",
    "print(a.read())"
   ]
  },
  {
   "cell_type": "code",
   "execution_count": 13,
   "metadata": {},
   "outputs": [
    {
     "ename": "FileNotFoundError",
     "evalue": "[Errno 2] No such file or directory: 'INVEoutput.xls'",
     "output_type": "error",
     "traceback": [
      "\u001b[1;31m---------------------------------------------------------------------------\u001b[0m",
      "\u001b[1;31mFileNotFoundError\u001b[0m                         Traceback (most recent call last)",
      "\u001b[1;32m<ipython-input-13-de812c26635d>\u001b[0m in \u001b[0;36m<module>\u001b[1;34m\u001b[0m\n\u001b[0;32m      3\u001b[0m \u001b[1;33m\u001b[0m\u001b[0m\n\u001b[0;32m      4\u001b[0m \u001b[1;33m\u001b[0m\u001b[0m\n\u001b[1;32m----> 5\u001b[1;33m \u001b[0mdata\u001b[0m \u001b[1;33m=\u001b[0m \u001b[0mxlrd\u001b[0m\u001b[1;33m.\u001b[0m\u001b[0mopen_workbook\u001b[0m\u001b[1;33m(\u001b[0m\u001b[1;34m\"INVEoutput.xls\"\u001b[0m\u001b[1;33m)\u001b[0m\u001b[1;33m\u001b[0m\u001b[1;33m\u001b[0m\u001b[0m\n\u001b[0m",
      "\u001b[1;32mC:\\ProgramData\\Anaconda3\\lib\\site-packages\\xlrd\\__init__.py\u001b[0m in \u001b[0;36mopen_workbook\u001b[1;34m(filename, logfile, verbosity, use_mmap, file_contents, encoding_override, formatting_info, on_demand, ragged_rows)\u001b[0m\n\u001b[0;32m    109\u001b[0m     \u001b[1;32melse\u001b[0m\u001b[1;33m:\u001b[0m\u001b[1;33m\u001b[0m\u001b[1;33m\u001b[0m\u001b[0m\n\u001b[0;32m    110\u001b[0m         \u001b[0mfilename\u001b[0m \u001b[1;33m=\u001b[0m \u001b[0mos\u001b[0m\u001b[1;33m.\u001b[0m\u001b[0mpath\u001b[0m\u001b[1;33m.\u001b[0m\u001b[0mexpanduser\u001b[0m\u001b[1;33m(\u001b[0m\u001b[0mfilename\u001b[0m\u001b[1;33m)\u001b[0m\u001b[1;33m\u001b[0m\u001b[1;33m\u001b[0m\u001b[0m\n\u001b[1;32m--> 111\u001b[1;33m         \u001b[1;32mwith\u001b[0m \u001b[0mopen\u001b[0m\u001b[1;33m(\u001b[0m\u001b[0mfilename\u001b[0m\u001b[1;33m,\u001b[0m \u001b[1;34m\"rb\"\u001b[0m\u001b[1;33m)\u001b[0m \u001b[1;32mas\u001b[0m \u001b[0mf\u001b[0m\u001b[1;33m:\u001b[0m\u001b[1;33m\u001b[0m\u001b[1;33m\u001b[0m\u001b[0m\n\u001b[0m\u001b[0;32m    112\u001b[0m             \u001b[0mpeek\u001b[0m \u001b[1;33m=\u001b[0m \u001b[0mf\u001b[0m\u001b[1;33m.\u001b[0m\u001b[0mread\u001b[0m\u001b[1;33m(\u001b[0m\u001b[0mpeeksz\u001b[0m\u001b[1;33m)\u001b[0m\u001b[1;33m\u001b[0m\u001b[1;33m\u001b[0m\u001b[0m\n\u001b[0;32m    113\u001b[0m     \u001b[1;32mif\u001b[0m \u001b[0mpeek\u001b[0m \u001b[1;33m==\u001b[0m \u001b[1;34mb\"PK\\x03\\x04\"\u001b[0m\u001b[1;33m:\u001b[0m \u001b[1;31m# a ZIP file\u001b[0m\u001b[1;33m\u001b[0m\u001b[1;33m\u001b[0m\u001b[0m\n",
      "\u001b[1;31mFileNotFoundError\u001b[0m: [Errno 2] No such file or directory: 'INVEoutput.xls'"
     ]
    }
   ],
   "source": [
    "\n",
    "import xlrd \n",
    "\n",
    "\n",
    "data = xlrd.open_workbook(\"INVEoutput.xls\")\n"
   ]
  },
  {
   "cell_type": "code",
   "execution_count": 1,
   "metadata": {},
   "outputs": [
    {
     "name": "stdout",
     "output_type": "stream",
     "text": [
      "Requirement already satisfied: openpyxl in c:\\programdata\\anaconda3\\lib\\site-packages (2.6.1)\n",
      "Requirement already satisfied: jdcal in c:\\programdata\\anaconda3\\lib\\site-packages (from openpyxl) (1.4)\n",
      "Requirement already satisfied: et-xmlfile in c:\\programdata\\anaconda3\\lib\\site-packages (from openpyxl) (1.0.1)\n"
     ]
    },
    {
     "name": "stderr",
     "output_type": "stream",
     "text": [
      "You are using pip version 19.1, however version 19.1.1 is available.\n",
      "You should consider upgrading via the 'python -m pip install --upgrade pip' command.\n"
     ]
    }
   ],
   "source": [
    "!pip install openpyxl\n"
   ]
  },
  {
   "cell_type": "code",
   "execution_count": 2,
   "metadata": {},
   "outputs": [],
   "source": [
    "import xlwings as xw"
   ]
  },
  {
   "cell_type": "code",
   "execution_count": 4,
   "metadata": {},
   "outputs": [],
   "source": []
  },
  {
   "cell_type": "code",
   "execution_count": 18,
   "metadata": {},
   "outputs": [
    {
     "data": {
      "text/plain": [
       "1"
      ]
     },
     "execution_count": 18,
     "metadata": {},
     "output_type": "execute_result"
    }
   ],
   "source": [
    "wb = xw.Book(r'CompanyData\\INVEoutput.xls')\n",
    "ooo=wb.sheets['Sheet1']\n",
    "rng.rows.count\n"
   ]
  },
  {
   "cell_type": "code",
   "execution_count": null,
   "metadata": {},
   "outputs": [],
   "source": [
    "for i in range()"
   ]
  }
 ],
 "metadata": {
  "kernelspec": {
   "display_name": "Python 3",
   "language": "python",
   "name": "python3"
  },
  "language_info": {
   "codemirror_mode": {
    "name": "ipython",
    "version": 3
   },
   "file_extension": ".py",
   "mimetype": "text/x-python",
   "name": "python",
   "nbconvert_exporter": "python",
   "pygments_lexer": "ipython3",
   "version": "3.7.3"
  }
 },
 "nbformat": 4,
 "nbformat_minor": 2
}
